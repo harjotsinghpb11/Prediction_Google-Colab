{
  "cells": [
    {
      "cell_type": "code",
      "execution_count": null,
      "metadata": {
        "id": "at_yL1pFGGbn"
      },
      "outputs": [],
      "source": [
        "import tensorflow as tf\n",
        "import pandas as pd\n",
        "import numpy as np\n",
        "from sklearn.model_selection import train_test_split\n",
        "import matplotlib.pyplot as plt"
      ]
    },
    {
      "cell_type": "code",
      "execution_count": null,
      "metadata": {
        "id": "xERLOLi_HKVc"
      },
      "outputs": [],
      "source": [
        "df = pd.read_csv('IP(w1_l5)n.csv')\n",
        "df_n = (df - df.mean())/df.std()\n",
        "#mult_columns = ([\"W1 (um)\",\"L1\",\"W2\",\"L2\",\"W3\",\"L3\",\"W4\",\"L4\",\"W5\",\"L5\"])\n",
        "#x = df_n.drop(columns = mult_columns)\n",
        "#y = df_n[[\"W1 (um)\",\"L1\",\"W2\",\"L2\",\"W3\",\"L3\",\"W4\",\"L4\",\"W5\",\"L5\"]]\n",
        "\n",
        "train,test = train_test_split(df, test_size=0.2, random_state=2)\n",
        "train_n, test_n = train_test_split(df_n, test_size=0.2, random_state=2)\n",
        "\n",
        "train_x_n = train_n.drop(columns = [\"columnW1\",\"columnL1\",\"columnW2\",\"columnL2\",\"columnW3\",\"columnL3\",\"columnW4\",\"columnL4\",\"columnW5\",\"columnL5\"])\n",
        "test_x_n = test_n.drop(columns = [\"columnW1\",\"columnL1\",\"columnW2\",\"columnL2\",\"columnW3\",\"columnL3\",\"columnW4\",\"columnL4\",\"columnW5\",\"columnL5\"])\n",
        "\n",
        "\n",
        "\n",
        "\n",
        "\n"
      ]
    },
    {
      "cell_type": "code",
      "execution_count": null,
      "metadata": {
        "id": "PW1005B1MWE1"
      },
      "outputs": [],
      "source": [
        "def output_form(data):\n",
        "    columnW1 = data.pop('columnW1')\n",
        "    columnW1 = np.array(columnW1)\n",
        "    columnL1 = data.pop('columnL1')\n",
        "    columnL1 = np.array(columnL1)\n",
        "    columnW2 = data.pop('columnW2')\n",
        "    columnW2 = np.array(columnW2)\n",
        "    columnL2 = data.pop('columnL2')\n",
        "    columnL2 = np.array(columnL2)\n",
        "    columnW3 = data.pop('columnW3')\n",
        "    columnW3 = np.array(columnW3)\n",
        "    columnL3 = data.pop('columnL3')\n",
        "    columnL3 = np.array(columnL3)\n",
        "    columnW4 = data.pop('columnW4')\n",
        "    columnW4 = np.array(columnW4)\n",
        "    columnL4 = data.pop('columnL4')\n",
        "    columnL4 = np.array(columnL4)\n",
        "    columnW5 = data.pop('columnW5')\n",
        "    columnW5 = np.array(columnW5)\n",
        "    columnL5 = data.pop('columnL5')\n",
        "    columnL5 = np.array(columnL5)\n",
        "    return (columnW1,columnL1,columnW2,columnL2,columnW3,columnL3,columnW4,columnL4,columnW5,columnL5)"
      ]
    },
    {
      "cell_type": "code",
      "execution_count": null,
      "metadata": {
        "id": "S-aalbVvOYlh"
      },
      "outputs": [],
      "source": [
        "train_y_n = output_form(train_n)\n",
        "test_y_n= output_form(test_n)\n",
        "test_y = output_form(test)\n"
      ]
    },
    {
      "cell_type": "code",
      "execution_count": null,
      "metadata": {
        "colab": {
          "base_uri": "https://localhost:8080/"
        },
        "collapsed": true,
        "id": "i0DEzKsTLYbz",
        "outputId": "02dad27a-43ef-435c-ff64-8d027d1b672a"
      },
      "outputs": [],
      "source": [
        "def base_model(inputs):\n",
        "    x= tf.keras.layers.Dense(500, activation='relu')(inputs)\n",
        "    x= tf.keras.layers.Dense(500, activation='relu')(x)\n",
        "    x= tf.keras.layers.Dense(300, activation='relu')(x)\n",
        "    x= tf.keras.layers.Dense(300, activation='relu')(x)\n",
        "    x= tf.keras.layers.Dense(300, activation='relu')(x)\n",
        "    x=tf.keras.layers. Dense(300, activation='relu')(x)\n",
        "    x= tf.keras.layers.Dense(150, activation='relu')(x)\n",
        "    x= tf.keras.layers.Dense(150, activation='relu')(x)\n",
        "    x= tf.keras.layers.Dense(100, activation='relu')(x)\n",
        "    x= tf.keras.layers.Dense(50, activation='relu')(x)\n",
        "    x= tf.keras.layers.Dense(10, activation='relu')(x)\n",
        "    return x\n",
        "\n",
        "def final_model(inputs):\n",
        "    x = base_model(inputs)\n",
        "    columnW1 = tf.keras.layers.Dense(units=1, name='columnW1')(x)\n",
        "    columnL1 = tf.keras.layers.Dense(units=1, name = 'columnL1')(x)\n",
        "    columnW2 = tf.keras.layers.Dense(units=1, name='columnW2')(x)\n",
        "    columnL2 = tf.keras.layers.Dense(units=1, name = 'columnL2')(x)\n",
        "    columnW3 = tf.keras.layers.Dense(units=1, name='columnW3')(x)\n",
        "    columnL3 = tf.keras.layers.Dense(units=1, name = 'columnL3')(x)\n",
        "    columnW4 = tf.keras.layers.Dense(units=1, name='columnW4')(x)\n",
        "    columnL4 = tf.keras.layers.Dense(units=1, name = 'columnL4')(x)\n",
        "    columnW5 = tf.keras.layers.Dense(units=1, name='columnW5')(x)\n",
        "    columnL5 = tf.keras.layers.Dense(units=1, name = 'columnL5')(x)\n",
        "\n",
        "    model = tf.keras.Model(inputs=inputs, outputs = [columnW1,columnL1,columnW2,columnL2,columnW3,columnL3,columnW4,columnL4,columnW5,columnL5])\n",
        "    return model\n",
        "\n",
        "inputs = tf.keras.layers.Input(shape=(2,))\n",
        "\n",
        "\n",
        "model = final_model(inputs)\n",
        "\n",
        "model.compile(optimizer=tf.keras.optimizers.Adam(learning_rate=0.01),\n",
        "             loss = {'columnW1': 'mae',\n",
        "                    'columnL1': 'mae',\n",
        "                    'columnW2': 'mae',\n",
        "                    'columnL2': 'mae',\n",
        "                    'columnW3': 'mae',\n",
        "                    'columnL3': 'mae',\n",
        "                    'columnW4': 'mae',\n",
        "                    'columnL4': 'mae',\n",
        "                    'columnW5': 'mae',\n",
        "                    'columnL5': 'mae'},\n",
        "             metrics={'columnW1':'mae',\n",
        "                      'columnL1':'mae',\n",
        "                      'columnW2':'mae',\n",
        "                      'columnL2':'mae',\n",
        "                      'columnW3':'mae',\n",
        "                      'columnL3':'mae',\n",
        "                      'columnW4':'mae',\n",
        "                      'columnL4':'mae',\n",
        "                      'columnW5':'mae',\n",
        "                      'columnL5':'mae',})\n",
        "\n",
        "history = model.fit(train_x_n, train_y_n,epochs=400,)"
      ]
    },
    {
      "cell_type": "code",
      "execution_count": null,
      "metadata": {
        "colab": {
          "base_uri": "https://localhost:8080/"
        },
        "collapsed": true,
        "id": "VWt_cN8nI4Pd",
        "outputId": "fbb22dc9-6425-40d2-e63e-44aa0f9451f0"
      },
      "outputs": [],
      "source": [
        "model.evaluate(test_x_n,test_y_n)"
      ]
    },
    {
      "cell_type": "code",
      "execution_count": null,
      "metadata": {
        "colab": {
          "base_uri": "https://localhost:8080/"
        },
        "collapsed": true,
        "id": "5JmfBGTAJZTC",
        "outputId": "c7a9d62a-e9bf-48eb-fc5b-3b614c99704d"
      },
      "outputs": [],
      "source": [
        "predictions=model.predict(test_x_n)\n",
        "print(test_x_n)\n",
        "predictions_new_w1 =(predictions[0]*df[\"columnW1\"].std())+df[\"columnW1\"].mean()\n",
        "predictions_new_l1 =(predictions[1]*df[\"columnL1\"].std())+df[\"columnL1\"].mean()\n",
        "predictions_new_w2 =(predictions[2]*df[\"columnW2\"].std())+df[\"columnW2\"].mean()\n",
        "predictions_new_l2 =(predictions[3]*df[\"columnL2\"].std())+df[\"columnL2\"].mean()\n",
        "predictions_new_w3 =(predictions[4]*df[\"columnW3\"].std())+df[\"columnW3\"].mean()\n",
        "predictions_new_l3 =(predictions[5]*df[\"columnL3\"].std())+df[\"columnL3\"].mean()\n",
        "predictions_new_w4 =(predictions[6]*df[\"columnW4\"].std())+df[\"columnW4\"].mean()\n",
        "predictions_new_l4 =(predictions[7]*df[\"columnL4\"].std())+df[\"columnL4\"].mean()\n",
        "predictions_new_w5 =(predictions[8]*df[\"columnW5\"].std())+df[\"columnW5\"].mean()\n",
        "predictions_new_l5 =(predictions[9]*df[\"columnL5\"].std())+df[\"columnL5\"].mean()\n",
        "\n"
      ]
    },
    {
      "cell_type": "code",
      "execution_count": null,
      "metadata": {
        "colab": {
          "base_uri": "https://localhost:8080/"
        },
        "collapsed": true,
        "id": "f4c-izVZR1Kk",
        "outputId": "30b87bcf-e20b-47cc-e625-5cec9d1086d9"
      },
      "outputs": [],
      "source": [
        "a=(test_y_n[0]*df[\"columnW1\"].std())+df[\"columnW1\"].mean()\n",
        "b=(test_y_n[1]*df[\"columnL1\"].std())+df[\"columnL1\"].mean()\n",
        "c=(test_y_n[2]*df[\"columnW2\"].std())+df[\"columnW2\"].mean()\n",
        "d=(test_y_n[3]*df[\"columnL2\"].std())+df[\"columnL2\"].mean()\n",
        "e=(test_y_n[4]*df[\"columnW3\"].std())+df[\"columnW3\"].mean()\n",
        "f=(test_y_n[5]*df[\"columnL3\"].std())+df[\"columnL3\"].mean()\n",
        "g=(test_y_n[6]*df[\"columnW4\"].std())+df[\"columnW4\"].mean()\n",
        "h=(test_y_n[7]*df[\"columnL4\"].std())+df[\"columnL4\"].mean()\n",
        "i=(test_y_n[8]*df[\"columnW5\"].std())+df[\"columnW5\"].mean()\n",
        "j=(test_y_n[9]*df[\"columnL5\"].std())+df[\"columnL5\"].mean()\n",
        "a,predictions_new_w1,b,predictions_new_l1,c,predictions_new_w2,d,predictions_new_l2,e,predictions_new_w3,f,predictions_new_l3,g,predictions_new_w4,h,predictions_new_l4,i,predictions_new_w5,j,predictions_new_l5\n",
        "\n",
        "\n",
        "\n"
      ]
    },
    {
      "cell_type": "code",
      "execution_count": null,
      "metadata": {
        "colab": {
          "base_uri": "https://localhost:8080/",
          "height": 490
        },
        "collapsed": true,
        "id": "2H_olbs3HwW3",
        "outputId": "627e48fe-b6a4-470e-f56f-d2ddb99dcdcf"
      },
      "outputs": [],
      "source": [
        "    pd.DataFrame(history.history).plot()\n",
        "    plt.ylabel(\"loss\")\n",
        "    plt.xlabel(\"epochs\");"
      ]
    }
  ],
  "metadata": {
    "colab": {
      "provenance": []
    },
    "kernelspec": {
      "display_name": "Python 3",
      "name": "python3"
    },
    "language_info": {
      "name": "python"
    }
  },
  "nbformat": 4,
  "nbformat_minor": 0
}
